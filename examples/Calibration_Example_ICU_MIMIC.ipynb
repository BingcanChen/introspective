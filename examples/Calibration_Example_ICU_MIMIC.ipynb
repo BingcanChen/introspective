{
 "cells": [
  {
   "cell_type": "markdown",
   "metadata": {},
   "source": [
    "## Probability Calibration using ML-Insights \n",
    "### On Example of Mortality Model Using MIMIC ICU Data*\n",
    "\n",
    "This workbook is intended to demonstrate why probability calibration may be useful, and how to do it using the `prob_calibration_function` in the ML-Insights package.\n",
    "\n",
    "We build a random forest model, demonstrate that using the vote percentage as a probability is not well-calibrated, and then show how to use an independent validation set and the `prob_calibration_function` to properly calibrate it so that accurate probabilities can be obtained.\n",
    "\n",
    "*MIMIC-III, a freely accessible critical care database. Johnson AEW, Pollard TJ, Shen L, Lehman L, Feng M, Ghassemi M, Moody B, Szolovits P, Celi LA, and Mark RG. Scientific Data (2016).\n",
    "https://mimic.physionet.org\n"
   ]
  },
  {
   "cell_type": "code",
   "execution_count": 1,
   "metadata": {
    "collapsed": false
   },
   "outputs": [],
   "source": [
    "# \"pip install ml_insights\" in terminal if needed\n",
    "\n",
    "import pandas as pd\n",
    "import numpy as np\n",
    "import matplotlib.pyplot as plt\n",
    "import ml_insights as mli\n",
    "%matplotlib inline\n",
    "\n",
    "from sklearn.ensemble import RandomForestClassifier\n",
    "from sklearn.cross_validation import train_test_split\n",
    "from sklearn.metrics import roc_auc_score, log_loss, brier_score_loss"
   ]
  },
  {
   "cell_type": "markdown",
   "metadata": {},
   "source": [
    "In the next few cells, we load in some data, inspect it, select columns for our features and outcome (mortality) and fill in missing values with the median of that column."
   ]
  },
  {
   "cell_type": "code",
   "execution_count": 2,
   "metadata": {
    "collapsed": false
   },
   "outputs": [],
   "source": [
    "# Load dataset derived from the MMIC database\n",
    "\n",
    "lab_aug_df = pd.read_csv(\"data/lab_vital_icu_table.csv\")"
   ]
  },
  {
   "cell_type": "code",
   "execution_count": 3,
   "metadata": {
    "collapsed": false
   },
   "outputs": [
    {
     "data": {
      "text/html": [
       "<div>\n",
       "<table border=\"1\" class=\"dataframe\">\n",
       "  <thead>\n",
       "    <tr style=\"text-align: right;\">\n",
       "      <th></th>\n",
       "      <th>subject_id</th>\n",
       "      <th>hadm_id</th>\n",
       "      <th>icustay_id</th>\n",
       "      <th>aniongap_min</th>\n",
       "      <th>aniongap_max</th>\n",
       "      <th>albumin_min</th>\n",
       "      <th>albumin_max</th>\n",
       "      <th>bicarbonate_min</th>\n",
       "      <th>bicarbonate_max</th>\n",
       "      <th>bilirubin_min</th>\n",
       "      <th>...</th>\n",
       "      <th>meanbp_mean</th>\n",
       "      <th>resprate_min</th>\n",
       "      <th>resprate_max</th>\n",
       "      <th>resprate_mean</th>\n",
       "      <th>tempc_min</th>\n",
       "      <th>tempc_max</th>\n",
       "      <th>tempc_mean</th>\n",
       "      <th>spo2_min</th>\n",
       "      <th>spo2_max</th>\n",
       "      <th>spo2_mean</th>\n",
       "    </tr>\n",
       "  </thead>\n",
       "  <tbody>\n",
       "    <tr>\n",
       "      <th>0</th>\n",
       "      <td>9</td>\n",
       "      <td>150750</td>\n",
       "      <td>220597</td>\n",
       "      <td>13.0</td>\n",
       "      <td>13.0</td>\n",
       "      <td>NaN</td>\n",
       "      <td>NaN</td>\n",
       "      <td>26.0</td>\n",
       "      <td>30.0</td>\n",
       "      <td>0.4</td>\n",
       "      <td>...</td>\n",
       "      <td>98.850000</td>\n",
       "      <td>14.0</td>\n",
       "      <td>19.0</td>\n",
       "      <td>14.369565</td>\n",
       "      <td>35.500001</td>\n",
       "      <td>37.888887</td>\n",
       "      <td>37.049383</td>\n",
       "      <td>95.0</td>\n",
       "      <td>100.0</td>\n",
       "      <td>97.650000</td>\n",
       "    </tr>\n",
       "    <tr>\n",
       "      <th>1</th>\n",
       "      <td>13</td>\n",
       "      <td>143045</td>\n",
       "      <td>263738</td>\n",
       "      <td>10.0</td>\n",
       "      <td>14.0</td>\n",
       "      <td>3.9</td>\n",
       "      <td>3.9</td>\n",
       "      <td>23.0</td>\n",
       "      <td>24.0</td>\n",
       "      <td>0.4</td>\n",
       "      <td>...</td>\n",
       "      <td>93.772727</td>\n",
       "      <td>11.0</td>\n",
       "      <td>25.0</td>\n",
       "      <td>15.320000</td>\n",
       "      <td>35.944443</td>\n",
       "      <td>37.400002</td>\n",
       "      <td>36.653534</td>\n",
       "      <td>94.0</td>\n",
       "      <td>100.0</td>\n",
       "      <td>97.700000</td>\n",
       "    </tr>\n",
       "    <tr>\n",
       "      <th>2</th>\n",
       "      <td>20</td>\n",
       "      <td>157681</td>\n",
       "      <td>264490</td>\n",
       "      <td>12.0</td>\n",
       "      <td>12.0</td>\n",
       "      <td>NaN</td>\n",
       "      <td>NaN</td>\n",
       "      <td>21.0</td>\n",
       "      <td>21.0</td>\n",
       "      <td>NaN</td>\n",
       "      <td>...</td>\n",
       "      <td>75.058333</td>\n",
       "      <td>10.0</td>\n",
       "      <td>27.0</td>\n",
       "      <td>15.404762</td>\n",
       "      <td>35.900002</td>\n",
       "      <td>37.299999</td>\n",
       "      <td>36.545714</td>\n",
       "      <td>95.0</td>\n",
       "      <td>100.0</td>\n",
       "      <td>98.435897</td>\n",
       "    </tr>\n",
       "    <tr>\n",
       "      <th>3</th>\n",
       "      <td>28</td>\n",
       "      <td>162569</td>\n",
       "      <td>225559</td>\n",
       "      <td>13.0</td>\n",
       "      <td>13.0</td>\n",
       "      <td>NaN</td>\n",
       "      <td>NaN</td>\n",
       "      <td>23.0</td>\n",
       "      <td>23.0</td>\n",
       "      <td>NaN</td>\n",
       "      <td>...</td>\n",
       "      <td>69.133333</td>\n",
       "      <td>9.0</td>\n",
       "      <td>32.0</td>\n",
       "      <td>16.677419</td>\n",
       "      <td>35.900002</td>\n",
       "      <td>37.700001</td>\n",
       "      <td>37.033333</td>\n",
       "      <td>92.0</td>\n",
       "      <td>100.0</td>\n",
       "      <td>96.419355</td>\n",
       "    </tr>\n",
       "    <tr>\n",
       "      <th>4</th>\n",
       "      <td>37</td>\n",
       "      <td>188670</td>\n",
       "      <td>213503</td>\n",
       "      <td>9.0</td>\n",
       "      <td>10.0</td>\n",
       "      <td>NaN</td>\n",
       "      <td>NaN</td>\n",
       "      <td>33.0</td>\n",
       "      <td>35.0</td>\n",
       "      <td>NaN</td>\n",
       "      <td>...</td>\n",
       "      <td>73.297610</td>\n",
       "      <td>15.0</td>\n",
       "      <td>30.0</td>\n",
       "      <td>22.241379</td>\n",
       "      <td>36.833335</td>\n",
       "      <td>38.055556</td>\n",
       "      <td>37.333334</td>\n",
       "      <td>89.0</td>\n",
       "      <td>99.0</td>\n",
       "      <td>96.533333</td>\n",
       "    </tr>\n",
       "    <tr>\n",
       "      <th>5</th>\n",
       "      <td>71</td>\n",
       "      <td>111944</td>\n",
       "      <td>211832</td>\n",
       "      <td>13.0</td>\n",
       "      <td>30.0</td>\n",
       "      <td>3.6</td>\n",
       "      <td>4.7</td>\n",
       "      <td>17.0</td>\n",
       "      <td>26.0</td>\n",
       "      <td>0.4</td>\n",
       "      <td>...</td>\n",
       "      <td>79.222208</td>\n",
       "      <td>13.0</td>\n",
       "      <td>25.0</td>\n",
       "      <td>17.130435</td>\n",
       "      <td>35.722224</td>\n",
       "      <td>37.833332</td>\n",
       "      <td>37.351852</td>\n",
       "      <td>99.0</td>\n",
       "      <td>100.0</td>\n",
       "      <td>99.862069</td>\n",
       "    </tr>\n",
       "    <tr>\n",
       "      <th>6</th>\n",
       "      <td>72</td>\n",
       "      <td>156857</td>\n",
       "      <td>239612</td>\n",
       "      <td>18.0</td>\n",
       "      <td>18.0</td>\n",
       "      <td>NaN</td>\n",
       "      <td>NaN</td>\n",
       "      <td>20.0</td>\n",
       "      <td>20.0</td>\n",
       "      <td>3.5</td>\n",
       "      <td>...</td>\n",
       "      <td>NaN</td>\n",
       "      <td>NaN</td>\n",
       "      <td>NaN</td>\n",
       "      <td>NaN</td>\n",
       "      <td>NaN</td>\n",
       "      <td>NaN</td>\n",
       "      <td>NaN</td>\n",
       "      <td>NaN</td>\n",
       "      <td>NaN</td>\n",
       "      <td>NaN</td>\n",
       "    </tr>\n",
       "    <tr>\n",
       "      <th>7</th>\n",
       "      <td>78</td>\n",
       "      <td>100536</td>\n",
       "      <td>233150</td>\n",
       "      <td>9.0</td>\n",
       "      <td>9.0</td>\n",
       "      <td>2.7</td>\n",
       "      <td>3.1</td>\n",
       "      <td>26.0</td>\n",
       "      <td>26.0</td>\n",
       "      <td>0.8</td>\n",
       "      <td>...</td>\n",
       "      <td>121.129705</td>\n",
       "      <td>11.0</td>\n",
       "      <td>24.0</td>\n",
       "      <td>16.764706</td>\n",
       "      <td>36.333334</td>\n",
       "      <td>36.833335</td>\n",
       "      <td>36.577778</td>\n",
       "      <td>96.0</td>\n",
       "      <td>100.0</td>\n",
       "      <td>98.470588</td>\n",
       "    </tr>\n",
       "    <tr>\n",
       "      <th>8</th>\n",
       "      <td>88</td>\n",
       "      <td>123010</td>\n",
       "      <td>297289</td>\n",
       "      <td>13.0</td>\n",
       "      <td>18.0</td>\n",
       "      <td>NaN</td>\n",
       "      <td>NaN</td>\n",
       "      <td>19.0</td>\n",
       "      <td>26.0</td>\n",
       "      <td>NaN</td>\n",
       "      <td>...</td>\n",
       "      <td>91.884615</td>\n",
       "      <td>9.0</td>\n",
       "      <td>45.0</td>\n",
       "      <td>20.352941</td>\n",
       "      <td>35.722224</td>\n",
       "      <td>39.111112</td>\n",
       "      <td>37.810185</td>\n",
       "      <td>99.0</td>\n",
       "      <td>100.0</td>\n",
       "      <td>99.962963</td>\n",
       "    </tr>\n",
       "    <tr>\n",
       "      <th>9</th>\n",
       "      <td>95</td>\n",
       "      <td>160891</td>\n",
       "      <td>216431</td>\n",
       "      <td>13.0</td>\n",
       "      <td>17.0</td>\n",
       "      <td>NaN</td>\n",
       "      <td>NaN</td>\n",
       "      <td>23.0</td>\n",
       "      <td>26.0</td>\n",
       "      <td>NaN</td>\n",
       "      <td>...</td>\n",
       "      <td>93.952386</td>\n",
       "      <td>14.0</td>\n",
       "      <td>20.0</td>\n",
       "      <td>16.363636</td>\n",
       "      <td>35.722224</td>\n",
       "      <td>36.666667</td>\n",
       "      <td>36.305556</td>\n",
       "      <td>96.0</td>\n",
       "      <td>100.0</td>\n",
       "      <td>98.071429</td>\n",
       "    </tr>\n",
       "  </tbody>\n",
       "</table>\n",
       "<p>10 rows × 79 columns</p>\n",
       "</div>"
      ],
      "text/plain": [
       "   subject_id  hadm_id  icustay_id  aniongap_min  aniongap_max  albumin_min  \\\n",
       "0           9   150750      220597          13.0          13.0          NaN   \n",
       "1          13   143045      263738          10.0          14.0          3.9   \n",
       "2          20   157681      264490          12.0          12.0          NaN   \n",
       "3          28   162569      225559          13.0          13.0          NaN   \n",
       "4          37   188670      213503           9.0          10.0          NaN   \n",
       "5          71   111944      211832          13.0          30.0          3.6   \n",
       "6          72   156857      239612          18.0          18.0          NaN   \n",
       "7          78   100536      233150           9.0           9.0          2.7   \n",
       "8          88   123010      297289          13.0          18.0          NaN   \n",
       "9          95   160891      216431          13.0          17.0          NaN   \n",
       "\n",
       "   albumin_max  bicarbonate_min  bicarbonate_max  bilirubin_min    ...      \\\n",
       "0          NaN             26.0             30.0            0.4    ...       \n",
       "1          3.9             23.0             24.0            0.4    ...       \n",
       "2          NaN             21.0             21.0            NaN    ...       \n",
       "3          NaN             23.0             23.0            NaN    ...       \n",
       "4          NaN             33.0             35.0            NaN    ...       \n",
       "5          4.7             17.0             26.0            0.4    ...       \n",
       "6          NaN             20.0             20.0            3.5    ...       \n",
       "7          3.1             26.0             26.0            0.8    ...       \n",
       "8          NaN             19.0             26.0            NaN    ...       \n",
       "9          NaN             23.0             26.0            NaN    ...       \n",
       "\n",
       "   meanbp_mean  resprate_min  resprate_max  resprate_mean  tempc_min  \\\n",
       "0    98.850000          14.0          19.0      14.369565  35.500001   \n",
       "1    93.772727          11.0          25.0      15.320000  35.944443   \n",
       "2    75.058333          10.0          27.0      15.404762  35.900002   \n",
       "3    69.133333           9.0          32.0      16.677419  35.900002   \n",
       "4    73.297610          15.0          30.0      22.241379  36.833335   \n",
       "5    79.222208          13.0          25.0      17.130435  35.722224   \n",
       "6          NaN           NaN           NaN            NaN        NaN   \n",
       "7   121.129705          11.0          24.0      16.764706  36.333334   \n",
       "8    91.884615           9.0          45.0      20.352941  35.722224   \n",
       "9    93.952386          14.0          20.0      16.363636  35.722224   \n",
       "\n",
       "   tempc_max  tempc_mean  spo2_min  spo2_max  spo2_mean  \n",
       "0  37.888887   37.049383      95.0     100.0  97.650000  \n",
       "1  37.400002   36.653534      94.0     100.0  97.700000  \n",
       "2  37.299999   36.545714      95.0     100.0  98.435897  \n",
       "3  37.700001   37.033333      92.0     100.0  96.419355  \n",
       "4  38.055556   37.333334      89.0      99.0  96.533333  \n",
       "5  37.833332   37.351852      99.0     100.0  99.862069  \n",
       "6        NaN         NaN       NaN       NaN        NaN  \n",
       "7  36.833335   36.577778      96.0     100.0  98.470588  \n",
       "8  39.111112   37.810185      99.0     100.0  99.962963  \n",
       "9  36.666667   36.305556      96.0     100.0  98.071429  \n",
       "\n",
       "[10 rows x 79 columns]"
      ]
     },
     "execution_count": 3,
     "metadata": {},
     "output_type": "execute_result"
    }
   ],
   "source": [
    "lab_aug_df.head(10)"
   ]
  },
  {
   "cell_type": "code",
   "execution_count": 4,
   "metadata": {
    "collapsed": true
   },
   "outputs": [],
   "source": [
    "X = lab_aug_df.loc[:,['aniongap_min', 'aniongap_max',\n",
    "       'albumin_min', 'albumin_max', 'bicarbonate_min', 'bicarbonate_max',\n",
    "       'bilirubin_min', 'bilirubin_max', 'creatinine_min', 'creatinine_max',\n",
    "       'chloride_min', 'chloride_max', \n",
    "       'hematocrit_min', 'hematocrit_max', 'hemoglobin_min', 'hemoglobin_max',\n",
    "       'lactate_min', 'lactate_max', 'platelet_min', 'platelet_max',\n",
    "       'potassium_min', 'potassium_max', 'ptt_min', 'ptt_max', 'inr_min',\n",
    "       'inr_max', 'pt_min', 'pt_max', 'sodium_min', 'sodium_max', 'bun_min',\n",
    "       'bun_max', 'wbc_min', 'wbc_max','sysbp_max', 'sysbp_mean', 'diasbp_min', 'diasbp_max', 'diasbp_mean',\n",
    "       'meanbp_min', 'meanbp_max', 'meanbp_mean', 'resprate_min',\n",
    "       'resprate_max', 'resprate_mean', 'tempc_min', 'tempc_max', 'tempc_mean',\n",
    "       'spo2_min', 'spo2_max', 'spo2_mean']]\n",
    "y = lab_aug_df['hospital_expire_flag']"
   ]
  },
  {
   "cell_type": "code",
   "execution_count": 5,
   "metadata": {
    "collapsed": true
   },
   "outputs": [],
   "source": [
    "# Impute the median for in each column to replace NA's \n",
    "\n",
    "median_vec = [X.iloc[:,i].median() for i in range(len(X.columns))]\n",
    "\n",
    "for i in range(len(X.columns)):\n",
    "    X.iloc[:,i].fillna(median_vec[i],inplace=True)"
   ]
  },
  {
   "cell_type": "markdown",
   "metadata": {},
   "source": [
    "Now we divide the data into training, validation, and test sets.  The training set will be used to fit the model, the validation set will be used to calibrate the probabilities, and the test set will be used to evaluate the performance.  We use a 60-20-20 split (achived by first doing 80/20 and then splitting the 80 by 75/25)"
   ]
  },
  {
   "cell_type": "code",
   "execution_count": 6,
   "metadata": {
    "collapsed": true
   },
   "outputs": [],
   "source": [
    "X_train_val, X_test, y_train_val, y_test = train_test_split(X, y, test_size=0.2, random_state=942)"
   ]
  },
  {
   "cell_type": "code",
   "execution_count": 7,
   "metadata": {
    "collapsed": true
   },
   "outputs": [],
   "source": [
    "X_train, X_val, y_train, y_val = train_test_split(X_train_val, y_train_val, test_size=0.25, random_state=942)"
   ]
  },
  {
   "cell_type": "markdown",
   "metadata": {},
   "source": [
    "Next, we fit a Random Forest model to our training data.  Then we use that model to predict \"probabilities\" on our validation and test sets.  \n",
    "\n",
    "I use quotes on \"probabilities\" because these numbers, which are the percentage of trees that voted \"yes\" are better understood as mere scores.  A higher value should generally indicate a higher probability of mortality.  However, there is no reason to expect these to be well-calibrated probabilities.  The fact that, say, 60% of the trees voted \"yes\" on a particular case does not mean that that case has a 60% probability of mortality.\n",
    "\n",
    "We will demonstrate this empirically later."
   ]
  },
  {
   "cell_type": "code",
   "execution_count": 8,
   "metadata": {
    "collapsed": false
   },
   "outputs": [
    {
     "data": {
      "text/plain": [
       "RandomForestClassifier(bootstrap=True, class_weight='balanced_subsample',\n",
       "            criterion='gini', max_depth=None, max_features='auto',\n",
       "            max_leaf_nodes=None, min_samples_leaf=1, min_samples_split=2,\n",
       "            min_weight_fraction_leaf=0.0, n_estimators=500, n_jobs=1,\n",
       "            oob_score=False, random_state=942, verbose=0, warm_start=False)"
      ]
     },
     "execution_count": 8,
     "metadata": {},
     "output_type": "execute_result"
    }
   ],
   "source": [
    "rfmodel1 = RandomForestClassifier(n_estimators = 500, class_weight='balanced_subsample', random_state=942 )\n",
    "rfmodel1.fit(X_train,y_train)"
   ]
  },
  {
   "cell_type": "code",
   "execution_count": 9,
   "metadata": {
    "collapsed": true
   },
   "outputs": [],
   "source": [
    "val_res = rfmodel1.predict_proba(X_val)[:,1]\n",
    "test_res_uncalib = rfmodel1.predict_proba(X_test)[:,1]"
   ]
  },
  {
   "cell_type": "markdown",
   "metadata": {},
   "source": [
    "What follows is histograms showing on the validation set (top row) and the test set (bottom row) the histogram of the random forest vote percentage for the negative cases (survivors, left side) and the positive cases (mortalities, right side).  As we would expect the distribution of mortalities is shifted to the right.  We store the \"count vectors\" so that we can calculate some empirical probabilites.  We use 20 equal size bins."
   ]
  },
  {
   "cell_type": "code",
   "execution_count": 10,
   "metadata": {
    "collapsed": false
   },
   "outputs": [
    {
     "data": {
      "image/png": "[encoded data removed]",
      "text/plain": [
       "<matplotlib.figure.Figure at 0x11305d630>"
      ]
     },
     "metadata": {},
     "output_type": "display_data"
    }
   ],
   "source": [
    "# Side by side histograms showing scores of positive vs negative cases\n",
    "\n",
    "fig, axis = plt.subplots(2,2, figsize = (8,8))\n",
    "\n",
    "ax=axis.flatten()\n",
    "countvec0_val = ax[0].hist(val_res[np.where(y_val==0)],bins=20,range=[0,1]);\n",
    "countvec1_val = ax[1].hist(val_res[np.where(y_val==1)],bins=20,range=[0,1]);\n",
    "countvec0_test = ax[2].hist(test_res_uncalib[np.where(y_test==0)],bins=20,range=[0,1]);\n",
    "countvec1_test = ax[3].hist(test_res_uncalib[np.where(y_test==1)],bins=20,range=[0,1]);"
   ]
  },
  {
   "cell_type": "markdown",
   "metadata": {},
   "source": [
    "Next, we see the numerical counts in each bin for the validation set.\n",
    "\n",
    "For example, in the first entry, we see that for the entries that had a vote percentage between 0 and .05, there were 4968 survivors, and 62 mortalities.  For those with a vote percentage between .05 and .10, there were 2450 survivors and 138 mortalities, and so on.  This allows us to calculate some empirical probabilities and visually see how well (or poorly) calibrated the vote percentage is."
   ]
  },
  {
   "cell_type": "code",
   "execution_count": 11,
   "metadata": {
    "collapsed": false
   },
   "outputs": [
    {
     "data": {
      "text/plain": [
       "[(4968.0, 62.0),\n",
       " (2450.0, 138.0),\n",
       " (1543.0, 204.0),\n",
       " (722.0, 193.0),\n",
       " (403.0, 185.0),\n",
       " (223.0, 104.0),\n",
       " (130.0, 98.0),\n",
       " (57.0, 70.0),\n",
       " (44.0, 58.0),\n",
       " (19.0, 59.0),\n",
       " (14.0, 33.0),\n",
       " (12.0, 44.0),\n",
       " (6.0, 20.0),\n",
       " (1.0, 22.0),\n",
       " (3.0, 14.0),\n",
       " (0.0, 12.0),\n",
       " (2.0, 13.0),\n",
       " (0.0, 12.0),\n",
       " (0.0, 5.0),\n",
       " (0.0, 2.0)]"
      ]
     },
     "execution_count": 11,
     "metadata": {},
     "output_type": "execute_result"
    }
   ],
   "source": [
    "list(zip(countvec0_val[0],countvec1_val[0]))"
   ]
  },
  {
   "cell_type": "markdown",
   "metadata": {},
   "source": [
    "Using the counts above, we can calculate empirical probabilities for each bin.  Below, we can see the endpoints of each bin and the empirical probability of mortality for entries in that bin.  So for example, for entries with a vote percentage between .45 and .5, we can see that the empirical probability of mortality was .756 (59/78), which suggests that the vote percentage is not a well-calibrated probability."
   ]
  },
  {
   "cell_type": "code",
   "execution_count": 12,
   "metadata": {
    "collapsed": false
   },
   "outputs": [
    {
     "data": {
      "text/plain": [
       "[((0.0, 0.05), 0.012326043737574552),\n",
       " ((0.05, 0.1), 0.053323029366306028),\n",
       " ((0.1, 0.15), 0.11677160847166572),\n",
       " ((0.15, 0.2), 0.21092896174863388),\n",
       " ((0.2, 0.25), 0.31462585034013607),\n",
       " ((0.25, 0.3), 0.31804281345565749),\n",
       " ((0.3, 0.35), 0.42982456140350878),\n",
       " ((0.35, 0.4), 0.55118110236220474),\n",
       " ((0.4, 0.45), 0.56862745098039214),\n",
       " ((0.45, 0.5), 0.75641025641025639),\n",
       " ((0.5, 0.55), 0.7021276595744681),\n",
       " ((0.55, 0.6), 0.7857142857142857),\n",
       " ((0.6, 0.65), 0.76923076923076927),\n",
       " ((0.65, 0.7), 0.95652173913043481),\n",
       " ((0.7, 0.75), 0.82352941176470584),\n",
       " ((0.75, 0.8), 1.0),\n",
       " ((0.8, 0.85), 0.8666666666666667),\n",
       " ((0.85, 0.9), 1.0),\n",
       " ((0.9, 0.95), 1.0),\n",
       " ((0.95, 1.0), 1.0)]"
      ]
     },
     "execution_count": 12,
     "metadata": {},
     "output_type": "execute_result"
    }
   ],
   "source": [
    "emp_prob_vec_val = countvec1_val[0]/(countvec0_val[0]+countvec1_val[0])\n",
    "list(zip([(i/20, (i+1)/20) for i in range(20)],emp_prob_vec_val))"
   ]
  },
  {
   "cell_type": "markdown",
   "metadata": {},
   "source": [
    "To demonstrate this more visually, a well-calibrated probability should have the points falling (roughly) on the line x=y.  However, as we see in the plot below, most of the points lie above that line.  This suggest that (in particular for entries with vote percentage >.4) the true probability is considerably higher than the vote percentage."
   ]
  },
  {
   "cell_type": "code",
   "execution_count": 13,
   "metadata": {
    "collapsed": false
   },
   "outputs": [
    {
     "data": {
      "text/plain": [
       "[<matplotlib.lines.Line2D at 0x113052630>]"
      ]
     },
     "execution_count": 13,
     "metadata": {},
     "output_type": "execute_result"
    },
    {
     "data": {
      "image/png": "[encoded data removed]",
      "text/plain": [
       "<matplotlib.figure.Figure at 0x1130526d8>"
      ]
     },
     "metadata": {},
     "output_type": "display_data"
    }
   ],
   "source": [
    "plt.plot(np.linspace(0,1,101),np.linspace(0,1,101),'k')\n",
    "plt.plot(np.linspace(0.05,1,20)-.025,emp_prob_vec_val,'ro')"
   ]
  },
  {
   "cell_type": "markdown",
   "metadata": {},
   "source": [
    "So how do we fix this?!  We can use the validation set to create a *calibration function*.  This function would map our uncalibrated score into a proper probability.  The ml-insights package has a function called `prob_calibration_function` which does just that.  Give it the scores and the true 0/1 values, and it will return a calibration function.  This calibration function can then be applied to the model output to yield a well-calibrated probability."
   ]
  },
  {
   "cell_type": "code",
   "execution_count": 14,
   "metadata": {
    "collapsed": false
   },
   "outputs": [
    {
     "name": "stdout",
     "output_type": "stream",
     "text": [
      "Trying 241 values of C between 1e-06 and 1000000.0\n",
      "Best value found C = [ 2511.88643151]\n"
     ]
    }
   ],
   "source": [
    "calibrate_rf = mli.prob_calibration_function(val_res, y_val)"
   ]
  },
  {
   "cell_type": "markdown",
   "metadata": {},
   "source": [
    "The function takes a little bit of time to run, primarily because it is doing cross-validation on the regularization parameter C (to balance fitting the current data with generalizing well).  There are additional settings on the function that can be applied to speed up this process, if desired.\n",
    "\n",
    "As you can see below, the resulting function is a nice cubic function that fits the data well without over-fitting"
   ]
  },
  {
   "cell_type": "code",
   "execution_count": 15,
   "metadata": {
    "collapsed": false
   },
   "outputs": [
    {
     "data": {
      "text/plain": [
       "[<matplotlib.lines.Line2D at 0x114887d30>]"
      ]
     },
     "execution_count": 15,
     "metadata": {},
     "output_type": "execute_result"
    },
    {
     "data": {
      "image/png": "[encoded data removed]",
      "text/plain": [
       "<matplotlib.figure.Figure at 0x114fb5358>"
      ]
     },
     "metadata": {},
     "output_type": "display_data"
    }
   ],
   "source": [
    "plt.plot(np.linspace(0,1,101),calibrate_rf(np.linspace(0,1,101)))\n",
    "plt.plot(np.linspace(0,1,101),np.linspace(0,1,101),'k')\n",
    "plt.plot(np.linspace(0.05,1,20)-.025,emp_prob_vec_val,'ro')"
   ]
  },
  {
   "cell_type": "markdown",
   "metadata": {},
   "source": [
    "Now let's demonstrate that we actually have more accurate probabilities after calibration than we did before.  We will use the `log_loss` metric to determine which performs better on the test set, with or without calibration."
   ]
  },
  {
   "cell_type": "code",
   "execution_count": 16,
   "metadata": {
    "collapsed": false
   },
   "outputs": [
    {
     "data": {
      "text/plain": [
       "0.25252730333409118"
      ]
     },
     "execution_count": 16,
     "metadata": {},
     "output_type": "execute_result"
    }
   ],
   "source": [
    "log_loss(y_test,test_res_uncalib)"
   ]
  },
  {
   "cell_type": "code",
   "execution_count": 17,
   "metadata": {
    "collapsed": true
   },
   "outputs": [],
   "source": [
    "test_res_calib=calibrate_rf(test_res_uncalib)"
   ]
  },
  {
   "cell_type": "code",
   "execution_count": 18,
   "metadata": {
    "collapsed": false
   },
   "outputs": [
    {
     "data": {
      "text/plain": [
       "0.24456530517832997"
      ]
     },
     "execution_count": 18,
     "metadata": {},
     "output_type": "execute_result"
    }
   ],
   "source": [
    "log_loss(y_test,test_res_calib)"
   ]
  },
  {
   "cell_type": "code",
   "execution_count": 19,
   "metadata": {
    "collapsed": false
   },
   "outputs": [
    {
     "data": {
      "text/plain": [
       "0.073175005512208458"
      ]
     },
     "execution_count": 19,
     "metadata": {},
     "output_type": "execute_result"
    }
   ],
   "source": [
    "brier_score_loss(y_test,test_res_uncalib)"
   ]
  },
  {
   "cell_type": "code",
   "execution_count": 20,
   "metadata": {
    "collapsed": false
   },
   "outputs": [
    {
     "data": {
      "text/plain": [
       "0.071994092057965781"
      ]
     },
     "execution_count": 20,
     "metadata": {},
     "output_type": "execute_result"
    }
   ],
   "source": [
    "brier_score_loss(y_test,test_res_calib)"
   ]
  },
  {
   "cell_type": "markdown",
   "metadata": {},
   "source": [
    "As you can see, there is a significant improvement after calibration. (Lower loss is better)\n",
    "\n",
    "This next plot shows the empirical probabilities of the test set data (that was not seen by the calibration process).\n",
    "\n",
    "You can see, that the curve fits the data pretty well, though not as well as it fits the validation set (since it was trained on the validation set).\n",
    "\n",
    "Note, the warning below is just eliminating the points where the counts in both bins was 0)"
   ]
  },
  {
   "cell_type": "code",
   "execution_count": 21,
   "metadata": {
    "collapsed": false
   },
   "outputs": [
    {
     "name": "stderr",
     "output_type": "stream",
     "text": [
      "/Applications/anaconda/envs/py3env/lib/python3.5/site-packages/ipykernel/__main__.py:1: RuntimeWarning: invalid value encountered in true_divide\n",
      "  if __name__ == '__main__':\n"
     ]
    },
    {
     "data": {
      "text/plain": [
       "[<matplotlib.lines.Line2D at 0x114dc7d68>]"
      ]
     },
     "execution_count": 21,
     "metadata": {},
     "output_type": "execute_result"
    },
    {
     "data": {
      "image/png": "[encoded data removed]",
      "text/plain": [
       "<matplotlib.figure.Figure at 0x114cde518>"
      ]
     },
     "metadata": {},
     "output_type": "display_data"
    }
   ],
   "source": [
    "emp_prob_vec_test = countvec1_test[0]/(countvec0_test[0]+countvec1_test[0])\n",
    "plt.plot(np.linspace(0,1,101),calibrate_rf(np.linspace(0,1,101)))\n",
    "#plt.plot(np.linspace(.025,.975,20),emp_prob_vec_val,'ro')\n",
    "plt.plot(np.linspace(.025,.975,20),emp_prob_vec_test,'y+')\n",
    "plt.plot(np.linspace(0,1,101),np.linspace(0,1,101),'k')"
   ]
  },
  {
   "cell_type": "markdown",
   "metadata": {},
   "source": [
    "### Changing the Regularization Search\n",
    "\n",
    "At the heart of the spline-fitting component of the calibration is a Penalized Logistic Regression, driven by the `LogisticRegressionCV` function in sklearn.  This function searches over a range of \"C\" values, where C is a parameter that controls the regularization (shrinkage) of the coefficients.\n",
    "\n",
    "By default, `prob_calibration_function` searches over 241 values, logarithmically spaced between 10^-6 and 10^6. (In numpy language this is `reg_param_vec = 10**np.linspace(-6,6,241)`. However, you have the option to specify your own `reg_param_vec` vector of C values to try in the Cross-Validation.\n",
    "\n",
    "If you recall previously, when we ran\n",
    "\n",
    "`calibrate_rf = mli.prob_calibration_function(val_res, y_val)`\n",
    "\n",
    "We got a message:\n",
    "\n",
    "\n",
    "`Trying 241 values of C between 1e-06 and 1000000.0\n",
    "Best value found C = [ 2511.88643151]`\n",
    "\n",
    "If we wish to optimize more fully, we might want to try a range of points between 1000 and 5000 for C.\n",
    "Below we show how to do this."
   ]
  },
  {
   "cell_type": "code",
   "execution_count": 22,
   "metadata": {
    "collapsed": false
   },
   "outputs": [
    {
     "data": {
      "text/plain": [
       "array([ 2000.,  2020.,  2040.,  2060.,  2080.,  2100.,  2120.,  2140.,\n",
       "        2160.,  2180.,  2200.,  2220.,  2240.,  2260.,  2280.,  2300.,\n",
       "        2320.,  2340.,  2360.,  2380.,  2400.,  2420.,  2440.,  2460.,\n",
       "        2480.,  2500.,  2520.,  2540.,  2560.,  2580.,  2600.,  2620.,\n",
       "        2640.,  2660.,  2680.,  2700.,  2720.,  2740.,  2760.,  2780.,\n",
       "        2800.,  2820.,  2840.,  2860.,  2880.,  2900.,  2920.,  2940.,\n",
       "        2960.,  2980.,  3000.])"
      ]
     },
     "execution_count": 22,
     "metadata": {},
     "output_type": "execute_result"
    }
   ],
   "source": [
    "new_C_vec = np.linspace(2000,3000,51)\n",
    "new_C_vec"
   ]
  },
  {
   "cell_type": "code",
   "execution_count": 23,
   "metadata": {
    "collapsed": false
   },
   "outputs": [
    {
     "name": "stdout",
     "output_type": "stream",
     "text": [
      "Trying 51 values of C between 2000.0 and 3000.0\n",
      "Best value found C = [ 2060.]\n"
     ]
    }
   ],
   "source": [
    "calibrate_rf_new = mli.prob_calibration_function(val_res, y_val,reg_param_vec=new_C_vec)"
   ]
  },
  {
   "cell_type": "markdown",
   "metadata": {},
   "source": [
    "Notice the function ran quicker this time, since we were only searching over 51 values instead of 241.  In general, if you want to save some time, you can specify a range with fewer points in the `reg_param_vec`"
   ]
  },
  {
   "cell_type": "code",
   "execution_count": 24,
   "metadata": {
    "collapsed": true
   },
   "outputs": [],
   "source": [
    "test_res_calib_new=calibrate_rf_new(test_res_uncalib)"
   ]
  },
  {
   "cell_type": "code",
   "execution_count": 25,
   "metadata": {
    "collapsed": false
   },
   "outputs": [
    {
     "data": {
      "text/plain": [
       "0.24464589789536564"
      ]
     },
     "execution_count": 25,
     "metadata": {},
     "output_type": "execute_result"
    }
   ],
   "source": [
    "log_loss(y_test,test_res_calib_new)"
   ]
  },
  {
   "cell_type": "markdown",
   "metadata": {},
   "source": [
    "We see that, in this case, the log_loss was little changed from our previous calibration."
   ]
  },
  {
   "cell_type": "code",
   "execution_count": null,
   "metadata": {
    "collapsed": true
   },
   "outputs": [],
   "source": []
  },
  {
   "cell_type": "code",
   "execution_count": null,
   "metadata": {
    "collapsed": true
   },
   "outputs": [],
   "source": []
  },
  {
   "cell_type": "code",
   "execution_count": null,
   "metadata": {
    "collapsed": true
   },
   "outputs": [],
   "source": []
  },
  {
   "cell_type": "markdown",
   "metadata": {},
   "source": [
    "## Existing Sklearn Calibration Functionality"
   ]
  },
  {
   "cell_type": "markdown",
   "metadata": {},
   "source": [
    "Note, sklearn has a `CalibratedClassifierCV` function, but it does not seem to work as well.  Below is my attempt to use it and the results.  It is also possible I am not using it properly..."
   ]
  },
  {
   "cell_type": "code",
   "execution_count": 26,
   "metadata": {
    "collapsed": true
   },
   "outputs": [],
   "source": [
    "from sklearn.calibration import CalibratedClassifierCV"
   ]
  },
  {
   "cell_type": "code",
   "execution_count": 27,
   "metadata": {
    "collapsed": true
   },
   "outputs": [],
   "source": [
    "clf_isotonic = CalibratedClassifierCV(rfmodel1, method='isotonic',cv=\"prefit\")\n",
    "clf_isotonic.fit(X_val, y_val)\n",
    "prob_pos_isotonic = clf_isotonic.predict_proba(X_test)[:, 1]\n"
   ]
  },
  {
   "cell_type": "code",
   "execution_count": 28,
   "metadata": {
    "collapsed": false
   },
   "outputs": [
    {
     "data": {
      "text/plain": [
       "0.26663934423877206"
      ]
     },
     "execution_count": 28,
     "metadata": {},
     "output_type": "execute_result"
    }
   ],
   "source": [
    "log_loss(y_test,prob_pos_isotonic)"
   ]
  },
  {
   "cell_type": "code",
   "execution_count": 29,
   "metadata": {
    "collapsed": false
   },
   "outputs": [
    {
     "data": {
      "text/plain": [
       "0.074458906233875938"
      ]
     },
     "execution_count": 29,
     "metadata": {},
     "output_type": "execute_result"
    }
   ],
   "source": [
    "brier_score_loss(y_test,prob_pos_isotonic)"
   ]
  },
  {
   "cell_type": "markdown",
   "metadata": {},
   "source": [
    "The log loss and brier score loss is actually worse (higher) than the uncalibrated version, and considerably worse than the calibrated method using ml-insights"
   ]
  },
  {
   "cell_type": "code",
   "execution_count": 30,
   "metadata": {
    "collapsed": false
   },
   "outputs": [
    {
     "data": {
      "text/plain": [
       "[<matplotlib.lines.Line2D at 0x12c24bef0>]"
      ]
     },
     "execution_count": 30,
     "metadata": {},
     "output_type": "execute_result"
    },
    {
     "data": {
      "image/png": "[encoded data removed]",
      "text/plain": [
       "<matplotlib.figure.Figure at 0x1181a3cc0>"
      ]
     },
     "metadata": {},
     "output_type": "display_data"
    }
   ],
   "source": [
    "plt.plot(np.linspace(0,1,101),calibrate_rf(np.linspace(0,1,101)))\n",
    "plt.plot(np.linspace(.025,.975,20),emp_prob_vec_val,'ro')\n",
    "plt.plot(np.linspace(0,1,101),np.linspace(0,1,101),'k')\n",
    "plt.plot(test_res_uncalib,prob_pos_isotonic,'c.')\n",
    "plt.plot(np.linspace(.025,.975,20),emp_prob_vec_test,'g+')\n",
    "\n"
   ]
  },
  {
   "cell_type": "markdown",
   "metadata": {},
   "source": [
    "From the plot above, it seems to give more of a \"step function\" calibration rather than a smooth, spline-like curve.  "
   ]
  },
  {
   "cell_type": "code",
   "execution_count": 31,
   "metadata": {
    "collapsed": true
   },
   "outputs": [],
   "source": [
    "clf_sigmoid = CalibratedClassifierCV(rfmodel1, method='sigmoid',cv=\"prefit\")\n",
    "clf_sigmoid.fit(X_val, y_val)\n",
    "prob_pos_sigmoid = clf_sigmoid.predict_proba(X_test)[:, 1]"
   ]
  },
  {
   "cell_type": "code",
   "execution_count": 32,
   "metadata": {
    "collapsed": false
   },
   "outputs": [
    {
     "data": {
      "text/plain": [
       "0.25396992513972455"
      ]
     },
     "execution_count": 32,
     "metadata": {},
     "output_type": "execute_result"
    }
   ],
   "source": [
    "log_loss(y_test,prob_pos_sigmoid)"
   ]
  },
  {
   "cell_type": "code",
   "execution_count": 33,
   "metadata": {
    "collapsed": false
   },
   "outputs": [
    {
     "data": {
      "text/plain": [
       "0.073394487887474241"
      ]
     },
     "execution_count": 33,
     "metadata": {},
     "output_type": "execute_result"
    }
   ],
   "source": [
    "brier_score_loss(y_test,prob_pos_sigmoid)"
   ]
  },
  {
   "cell_type": "markdown",
   "metadata": {},
   "source": [
    "This time, the results are "
   ]
  },
  {
   "cell_type": "code",
   "execution_count": 34,
   "metadata": {
    "collapsed": false
   },
   "outputs": [
    {
     "data": {
      "text/plain": [
       "[<matplotlib.lines.Line2D at 0x12c49eac8>]"
      ]
     },
     "execution_count": 34,
     "metadata": {},
     "output_type": "execute_result"
    },
    {
     "data": {
      "image/png": "[encoded data removed]",
      "text/plain": [
       "<matplotlib.figure.Figure at 0x12c2577b8>"
      ]
     },
     "metadata": {},
     "output_type": "display_data"
    }
   ],
   "source": [
    "#plt.plot(np.linspace(.025,.975,20),emp_prob_vec_val,'ro')\n",
    "plt.plot(np.linspace(0,1,101),np.linspace(0,1,101),'k')\n",
    "plt.plot(test_res_uncalib,prob_pos_sigmoid,'c.')\n",
    "plt.plot(np.linspace(.025,.975,20),emp_prob_vec_test,'g+')\n",
    "plt.plot(np.linspace(0,1,101),calibrate_rf(np.linspace(0,1,101)))"
   ]
  },
  {
   "cell_type": "markdown",
   "metadata": {
    "collapsed": true
   },
   "source": [
    "Above, we see that the `sigmoid` option assumes a rather strict parametric form, and thus fits badly if the reality is not of that shape.\n"
   ]
  }
 ],
 "metadata": {
  "anaconda-cloud": {},
  "kernelspec": {
   "display_name": "Python 3",
   "language": "python",
   "name": "python3"
  },
  "language_info": {
   "codemirror_mode": {
    "name": "ipython",
    "version": 3
   },
   "file_extension": ".py",
   "mimetype": "text/x-python",
   "name": "python",
   "nbconvert_exporter": "python",
   "pygments_lexer": "ipython3",
   "version": "3.5.1"
  }
 },
 "nbformat": 4,
 "nbformat_minor": 0
}
