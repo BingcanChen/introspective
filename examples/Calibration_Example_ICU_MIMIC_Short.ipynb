{
 "cells": [
  {
   "cell_type": "markdown",
   "metadata": {},
   "source": [
    "## Probability Calibration using ML-Insights \n",
    "### On Example of Mortality Model Using MIMIC ICU Data*\n",
    "\n",
    "This workbook is intended to demonstrate why probability calibration may be useful, and how to do it using the `prob_calibration_function` in the ML-Insights package.\n",
    "\n",
    "We build a random forest model, demonstrate that using the vote percentage as a probability is not well-calibrated, and then show how to use an independent validation set and the `prob_calibration_function` to properly calibrate it so that accurate probabilities can be obtained.\n",
    "\n",
    "*MIMIC-III, a freely accessible critical care database. Johnson AEW, Pollard TJ, Shen L, Lehman L, Feng M, Ghassemi M, Moody B, Szolovits P, Celi LA, and Mark RG. Scientific Data (2016).\n",
    "https://mimic.physionet.org\n"
   ]
  },
  {
   "cell_type": "code",
   "execution_count": 1,
   "metadata": {
    "collapsed": false
   },
   "outputs": [],
   "source": [
    "# \"pip install ml_insights\" in terminal if needed\n",
    "\n",
    "import pandas as pd\n",
    "import numpy as np\n",
    "import matplotlib.pyplot as plt\n",
    "import ml_insights as mli\n",
    "%matplotlib inline\n",
    "\n",
    "from sklearn.ensemble import RandomForestClassifier\n",
    "from sklearn.cross_validation import train_test_split, StratifiedKFold\n",
    "from sklearn.metrics import roc_auc_score, log_loss, brier_score_loss\n",
    "from sklearn import clone\n",
    "from sklearn.calibration import CalibratedClassifierCV\n",
    "\n"
   ]
  },
  {
   "cell_type": "markdown",
   "metadata": {},
   "source": [
    "In the next few cells, we load in some data, inspect it, select columns for our features and outcome (mortality) and fill in missing values with the median of that column."
   ]
  },
  {
   "cell_type": "code",
   "execution_count": 2,
   "metadata": {
    "collapsed": false
   },
   "outputs": [],
   "source": [
    "# Load dataset derived from the MMIC database\n",
    "\n",
    "lab_aug_df = pd.read_csv(\"data/lab_vital_icu_table.csv\")"
   ]
  },
  {
   "cell_type": "code",
   "execution_count": 3,
   "metadata": {
    "collapsed": false
   },
   "outputs": [
    {
     "data": {
      "text/html": [
       "<div>\n",
       "<table border=\"1\" class=\"dataframe\">\n",
       "  <thead>\n",
       "    <tr style=\"text-align: right;\">\n",
       "      <th></th>\n",
       "      <th>subject_id</th>\n",
       "      <th>hadm_id</th>\n",
       "      <th>icustay_id</th>\n",
       "      <th>aniongap_min</th>\n",
       "      <th>aniongap_max</th>\n",
       "      <th>albumin_min</th>\n",
       "      <th>albumin_max</th>\n",
       "      <th>bicarbonate_min</th>\n",
       "      <th>bicarbonate_max</th>\n",
       "      <th>bilirubin_min</th>\n",
       "      <th>...</th>\n",
       "      <th>meanbp_mean</th>\n",
       "      <th>resprate_min</th>\n",
       "      <th>resprate_max</th>\n",
       "      <th>resprate_mean</th>\n",
       "      <th>tempc_min</th>\n",
       "      <th>tempc_max</th>\n",
       "      <th>tempc_mean</th>\n",
       "      <th>spo2_min</th>\n",
       "      <th>spo2_max</th>\n",
       "      <th>spo2_mean</th>\n",
       "    </tr>\n",
       "  </thead>\n",
       "  <tbody>\n",
       "    <tr>\n",
       "      <th>0</th>\n",
       "      <td>9</td>\n",
       "      <td>150750</td>\n",
       "      <td>220597</td>\n",
       "      <td>13.0</td>\n",
       "      <td>13.0</td>\n",
       "      <td>NaN</td>\n",
       "      <td>NaN</td>\n",
       "      <td>26.0</td>\n",
       "      <td>30.0</td>\n",
       "      <td>0.4</td>\n",
       "      <td>...</td>\n",
       "      <td>98.850000</td>\n",
       "      <td>14.0</td>\n",
       "      <td>19.0</td>\n",
       "      <td>14.369565</td>\n",
       "      <td>35.500001</td>\n",
       "      <td>37.888887</td>\n",
       "      <td>37.049383</td>\n",
       "      <td>95.0</td>\n",
       "      <td>100.0</td>\n",
       "      <td>97.650000</td>\n",
       "    </tr>\n",
       "    <tr>\n",
       "      <th>1</th>\n",
       "      <td>13</td>\n",
       "      <td>143045</td>\n",
       "      <td>263738</td>\n",
       "      <td>10.0</td>\n",
       "      <td>14.0</td>\n",
       "      <td>3.9</td>\n",
       "      <td>3.9</td>\n",
       "      <td>23.0</td>\n",
       "      <td>24.0</td>\n",
       "      <td>0.4</td>\n",
       "      <td>...</td>\n",
       "      <td>93.772727</td>\n",
       "      <td>11.0</td>\n",
       "      <td>25.0</td>\n",
       "      <td>15.320000</td>\n",
       "      <td>35.944443</td>\n",
       "      <td>37.400002</td>\n",
       "      <td>36.653534</td>\n",
       "      <td>94.0</td>\n",
       "      <td>100.0</td>\n",
       "      <td>97.700000</td>\n",
       "    </tr>\n",
       "    <tr>\n",
       "      <th>2</th>\n",
       "      <td>20</td>\n",
       "      <td>157681</td>\n",
       "      <td>264490</td>\n",
       "      <td>12.0</td>\n",
       "      <td>12.0</td>\n",
       "      <td>NaN</td>\n",
       "      <td>NaN</td>\n",
       "      <td>21.0</td>\n",
       "      <td>21.0</td>\n",
       "      <td>NaN</td>\n",
       "      <td>...</td>\n",
       "      <td>75.058333</td>\n",
       "      <td>10.0</td>\n",
       "      <td>27.0</td>\n",
       "      <td>15.404762</td>\n",
       "      <td>35.900002</td>\n",
       "      <td>37.299999</td>\n",
       "      <td>36.545714</td>\n",
       "      <td>95.0</td>\n",
       "      <td>100.0</td>\n",
       "      <td>98.435897</td>\n",
       "    </tr>\n",
       "    <tr>\n",
       "      <th>3</th>\n",
       "      <td>28</td>\n",
       "      <td>162569</td>\n",
       "      <td>225559</td>\n",
       "      <td>13.0</td>\n",
       "      <td>13.0</td>\n",
       "      <td>NaN</td>\n",
       "      <td>NaN</td>\n",
       "      <td>23.0</td>\n",
       "      <td>23.0</td>\n",
       "      <td>NaN</td>\n",
       "      <td>...</td>\n",
       "      <td>69.133333</td>\n",
       "      <td>9.0</td>\n",
       "      <td>32.0</td>\n",
       "      <td>16.677419</td>\n",
       "      <td>35.900002</td>\n",
       "      <td>37.700001</td>\n",
       "      <td>37.033333</td>\n",
       "      <td>92.0</td>\n",
       "      <td>100.0</td>\n",
       "      <td>96.419355</td>\n",
       "    </tr>\n",
       "    <tr>\n",
       "      <th>4</th>\n",
       "      <td>37</td>\n",
       "      <td>188670</td>\n",
       "      <td>213503</td>\n",
       "      <td>9.0</td>\n",
       "      <td>10.0</td>\n",
       "      <td>NaN</td>\n",
       "      <td>NaN</td>\n",
       "      <td>33.0</td>\n",
       "      <td>35.0</td>\n",
       "      <td>NaN</td>\n",
       "      <td>...</td>\n",
       "      <td>73.297610</td>\n",
       "      <td>15.0</td>\n",
       "      <td>30.0</td>\n",
       "      <td>22.241379</td>\n",
       "      <td>36.833335</td>\n",
       "      <td>38.055556</td>\n",
       "      <td>37.333334</td>\n",
       "      <td>89.0</td>\n",
       "      <td>99.0</td>\n",
       "      <td>96.533333</td>\n",
       "    </tr>\n",
       "    <tr>\n",
       "      <th>5</th>\n",
       "      <td>71</td>\n",
       "      <td>111944</td>\n",
       "      <td>211832</td>\n",
       "      <td>13.0</td>\n",
       "      <td>30.0</td>\n",
       "      <td>3.6</td>\n",
       "      <td>4.7</td>\n",
       "      <td>17.0</td>\n",
       "      <td>26.0</td>\n",
       "      <td>0.4</td>\n",
       "      <td>...</td>\n",
       "      <td>79.222208</td>\n",
       "      <td>13.0</td>\n",
       "      <td>25.0</td>\n",
       "      <td>17.130435</td>\n",
       "      <td>35.722224</td>\n",
       "      <td>37.833332</td>\n",
       "      <td>37.351852</td>\n",
       "      <td>99.0</td>\n",
       "      <td>100.0</td>\n",
       "      <td>99.862069</td>\n",
       "    </tr>\n",
       "    <tr>\n",
       "      <th>6</th>\n",
       "      <td>72</td>\n",
       "      <td>156857</td>\n",
       "      <td>239612</td>\n",
       "      <td>18.0</td>\n",
       "      <td>18.0</td>\n",
       "      <td>NaN</td>\n",
       "      <td>NaN</td>\n",
       "      <td>20.0</td>\n",
       "      <td>20.0</td>\n",
       "      <td>3.5</td>\n",
       "      <td>...</td>\n",
       "      <td>NaN</td>\n",
       "      <td>NaN</td>\n",
       "      <td>NaN</td>\n",
       "      <td>NaN</td>\n",
       "      <td>NaN</td>\n",
       "      <td>NaN</td>\n",
       "      <td>NaN</td>\n",
       "      <td>NaN</td>\n",
       "      <td>NaN</td>\n",
       "      <td>NaN</td>\n",
       "    </tr>\n",
       "    <tr>\n",
       "      <th>7</th>\n",
       "      <td>78</td>\n",
       "      <td>100536</td>\n",
       "      <td>233150</td>\n",
       "      <td>9.0</td>\n",
       "      <td>9.0</td>\n",
       "      <td>2.7</td>\n",
       "      <td>3.1</td>\n",
       "      <td>26.0</td>\n",
       "      <td>26.0</td>\n",
       "      <td>0.8</td>\n",
       "      <td>...</td>\n",
       "      <td>121.129705</td>\n",
       "      <td>11.0</td>\n",
       "      <td>24.0</td>\n",
       "      <td>16.764706</td>\n",
       "      <td>36.333334</td>\n",
       "      <td>36.833335</td>\n",
       "      <td>36.577778</td>\n",
       "      <td>96.0</td>\n",
       "      <td>100.0</td>\n",
       "      <td>98.470588</td>\n",
       "    </tr>\n",
       "    <tr>\n",
       "      <th>8</th>\n",
       "      <td>88</td>\n",
       "      <td>123010</td>\n",
       "      <td>297289</td>\n",
       "      <td>13.0</td>\n",
       "      <td>18.0</td>\n",
       "      <td>NaN</td>\n",
       "      <td>NaN</td>\n",
       "      <td>19.0</td>\n",
       "      <td>26.0</td>\n",
       "      <td>NaN</td>\n",
       "      <td>...</td>\n",
       "      <td>91.884615</td>\n",
       "      <td>9.0</td>\n",
       "      <td>45.0</td>\n",
       "      <td>20.352941</td>\n",
       "      <td>35.722224</td>\n",
       "      <td>39.111112</td>\n",
       "      <td>37.810185</td>\n",
       "      <td>99.0</td>\n",
       "      <td>100.0</td>\n",
       "      <td>99.962963</td>\n",
       "    </tr>\n",
       "    <tr>\n",
       "      <th>9</th>\n",
       "      <td>95</td>\n",
       "      <td>160891</td>\n",
       "      <td>216431</td>\n",
       "      <td>13.0</td>\n",
       "      <td>17.0</td>\n",
       "      <td>NaN</td>\n",
       "      <td>NaN</td>\n",
       "      <td>23.0</td>\n",
       "      <td>26.0</td>\n",
       "      <td>NaN</td>\n",
       "      <td>...</td>\n",
       "      <td>93.952386</td>\n",
       "      <td>14.0</td>\n",
       "      <td>20.0</td>\n",
       "      <td>16.363636</td>\n",
       "      <td>35.722224</td>\n",
       "      <td>36.666667</td>\n",
       "      <td>36.305556</td>\n",
       "      <td>96.0</td>\n",
       "      <td>100.0</td>\n",
       "      <td>98.071429</td>\n",
       "    </tr>\n",
       "  </tbody>\n",
       "</table>\n",
       "<p>10 rows × 79 columns</p>\n",
       "</div>"
      ],
      "text/plain": [
       "   subject_id  hadm_id  icustay_id  aniongap_min  aniongap_max  albumin_min  \\\n",
       "0           9   150750      220597          13.0          13.0          NaN   \n",
       "1          13   143045      263738          10.0          14.0          3.9   \n",
       "2          20   157681      264490          12.0          12.0          NaN   \n",
       "3          28   162569      225559          13.0          13.0          NaN   \n",
       "4          37   188670      213503           9.0          10.0          NaN   \n",
       "5          71   111944      211832          13.0          30.0          3.6   \n",
       "6          72   156857      239612          18.0          18.0          NaN   \n",
       "7          78   100536      233150           9.0           9.0          2.7   \n",
       "8          88   123010      297289          13.0          18.0          NaN   \n",
       "9          95   160891      216431          13.0          17.0          NaN   \n",
       "\n",
       "   albumin_max  bicarbonate_min  bicarbonate_max  bilirubin_min    ...      \\\n",
       "0          NaN             26.0             30.0            0.4    ...       \n",
       "1          3.9             23.0             24.0            0.4    ...       \n",
       "2          NaN             21.0             21.0            NaN    ...       \n",
       "3          NaN             23.0             23.0            NaN    ...       \n",
       "4          NaN             33.0             35.0            NaN    ...       \n",
       "5          4.7             17.0             26.0            0.4    ...       \n",
       "6          NaN             20.0             20.0            3.5    ...       \n",
       "7          3.1             26.0             26.0            0.8    ...       \n",
       "8          NaN             19.0             26.0            NaN    ...       \n",
       "9          NaN             23.0             26.0            NaN    ...       \n",
       "\n",
       "   meanbp_mean  resprate_min  resprate_max  resprate_mean  tempc_min  \\\n",
       "0    98.850000          14.0          19.0      14.369565  35.500001   \n",
       "1    93.772727          11.0          25.0      15.320000  35.944443   \n",
       "2    75.058333          10.0          27.0      15.404762  35.900002   \n",
       "3    69.133333           9.0          32.0      16.677419  35.900002   \n",
       "4    73.297610          15.0          30.0      22.241379  36.833335   \n",
       "5    79.222208          13.0          25.0      17.130435  35.722224   \n",
       "6          NaN           NaN           NaN            NaN        NaN   \n",
       "7   121.129705          11.0          24.0      16.764706  36.333334   \n",
       "8    91.884615           9.0          45.0      20.352941  35.722224   \n",
       "9    93.952386          14.0          20.0      16.363636  35.722224   \n",
       "\n",
       "   tempc_max  tempc_mean  spo2_min  spo2_max  spo2_mean  \n",
       "0  37.888887   37.049383      95.0     100.0  97.650000  \n",
       "1  37.400002   36.653534      94.0     100.0  97.700000  \n",
       "2  37.299999   36.545714      95.0     100.0  98.435897  \n",
       "3  37.700001   37.033333      92.0     100.0  96.419355  \n",
       "4  38.055556   37.333334      89.0      99.0  96.533333  \n",
       "5  37.833332   37.351852      99.0     100.0  99.862069  \n",
       "6        NaN         NaN       NaN       NaN        NaN  \n",
       "7  36.833335   36.577778      96.0     100.0  98.470588  \n",
       "8  39.111112   37.810185      99.0     100.0  99.962963  \n",
       "9  36.666667   36.305556      96.0     100.0  98.071429  \n",
       "\n",
       "[10 rows x 79 columns]"
      ]
     },
     "execution_count": 3,
     "metadata": {},
     "output_type": "execute_result"
    }
   ],
   "source": [
    "lab_aug_df.head(10)"
   ]
  },
  {
   "cell_type": "code",
   "execution_count": 4,
   "metadata": {
    "collapsed": true
   },
   "outputs": [],
   "source": [
    "X = lab_aug_df.loc[:,['aniongap_min', 'aniongap_max',\n",
    "       'albumin_min', 'albumin_max', 'bicarbonate_min', 'bicarbonate_max',\n",
    "       'bilirubin_min', 'bilirubin_max', 'creatinine_min', 'creatinine_max',\n",
    "       'chloride_min', 'chloride_max', \n",
    "       'hematocrit_min', 'hematocrit_max', 'hemoglobin_min', 'hemoglobin_max',\n",
    "       'lactate_min', 'lactate_max', 'platelet_min', 'platelet_max',\n",
    "       'potassium_min', 'potassium_max', 'ptt_min', 'ptt_max', 'inr_min',\n",
    "       'inr_max', 'pt_min', 'pt_max', 'sodium_min', 'sodium_max', 'bun_min',\n",
    "       'bun_max', 'wbc_min', 'wbc_max','sysbp_max', 'sysbp_mean', 'diasbp_min', 'diasbp_max', 'diasbp_mean',\n",
    "       'meanbp_min', 'meanbp_max', 'meanbp_mean', 'resprate_min',\n",
    "       'resprate_max', 'resprate_mean', 'tempc_min', 'tempc_max', 'tempc_mean',\n",
    "       'spo2_min', 'spo2_max', 'spo2_mean']]\n",
    "y = lab_aug_df['hospital_expire_flag']"
   ]
  },
  {
   "cell_type": "code",
   "execution_count": 5,
   "metadata": {
    "collapsed": true
   },
   "outputs": [],
   "source": [
    "# Impute the median for in each column to replace NA's \n",
    "\n",
    "median_vec = [X.iloc[:,i].median() for i in range(len(X.columns))]\n",
    "\n",
    "for i in range(len(X.columns)):\n",
    "    X.iloc[:,i].fillna(median_vec[i],inplace=True)"
   ]
  },
  {
   "cell_type": "markdown",
   "metadata": {},
   "source": [
    "Now we divide the data into training, validation, and test sets.  The training set will be used to fit the model, the validation set will be used to calibrate the probabilities, and the test set will be used to evaluate the performance.  We use a 60-20-20 split (achived by first doing 80/20 and then splitting the 80 by 75/25)"
   ]
  },
  {
   "cell_type": "code",
   "execution_count": 6,
   "metadata": {
    "collapsed": false
   },
   "outputs": [],
   "source": [
    "X_train, X_test, y_train, y_test = train_test_split(X, y, test_size=0.3, random_state=942)"
   ]
  },
  {
   "cell_type": "markdown",
   "metadata": {},
   "source": [
    "Next, we fit a Random Forest model to our training data.  Then we use that model to predict \"probabilities\" on our validation and test sets.  \n",
    "\n",
    "I use quotes on \"probabilities\" because these numbers, which are the percentage of trees that voted \"yes\" are better understood as mere scores.  A higher value should generally indicate a higher probability of mortality.  However, there is no reason to expect these to be well-calibrated probabilities.  The fact that, say, 60% of the trees voted \"yes\" on a particular case does not mean that that case has a 60% probability of mortality.\n",
    "\n",
    "We will demonstrate this empirically later."
   ]
  },
  {
   "cell_type": "code",
   "execution_count": 7,
   "metadata": {
    "collapsed": false
   },
   "outputs": [
    {
     "name": "stdout",
     "output_type": "stream",
     "text": [
      "training fold 1 of 5\n",
      "training fold 2 of 5\n",
      "training fold 3 of 5\n",
      "training fold 4 of 5\n",
      "training fold 5 of 5\n",
      "Training Full Model\n",
      "Determining Calibration Function\n",
      "Originally there were 923 knots.  Reducing to 200 while preserving first and last knot.\n",
      "Trying 43 values of C between 0.0001 and 10000000000.0\n",
      "Best value found C = [  2.15443469e+09]\n"
     ]
    },
    {
     "data": {
      "text/plain": [
       "SplineCalibratedClassifierCV(base_estimator=RandomForestClassifier(bootstrap=True, class_weight='balanced_subsample',\n",
       "            criterion='gini', max_depth=None, max_features='auto',\n",
       "            max_leaf_nodes=None, min_samples_leaf=1, min_samples_split=2,\n",
       "            min_weight_fraction_leaf=0.0, n_estimators=500, n_jobs=-1,\n",
       "            oob_score=False, random_state=942, verbose=0, warm_start=False),\n",
       "               cv=5, method='logistic')"
      ]
     },
     "execution_count": 7,
     "metadata": {},
     "output_type": "execute_result"
    }
   ],
   "source": [
    "rfm = RandomForestClassifier(n_estimators = 500, class_weight='balanced_subsample', random_state=942, n_jobs=-1 )\n",
    "rfm_calib = mli.SplineCalibratedClassifierCV(rfm)\n",
    "rfm_calib.fit(X_train,y_train)"
   ]
  },
  {
   "cell_type": "code",
   "execution_count": 8,
   "metadata": {
    "collapsed": false
   },
   "outputs": [],
   "source": [
    "test_res_uncalib = rfm_calib.uncalibrated_classifier.predict_proba(X_test)[:,1]\n",
    "test_res_calib = rfm_calib.predict_proba(X_test)[:,1]\n"
   ]
  },
  {
   "cell_type": "markdown",
   "metadata": {},
   "source": [
    "As you can see, there is a significant improvement after calibration. (Lower loss is better)"
   ]
  },
  {
   "cell_type": "code",
   "execution_count": 9,
   "metadata": {
    "collapsed": false
   },
   "outputs": [
    {
     "data": {
      "text/plain": [
       "0.254672254282787"
      ]
     },
     "execution_count": 9,
     "metadata": {},
     "output_type": "execute_result"
    }
   ],
   "source": [
    "log_loss(y_test,test_res_uncalib)"
   ]
  },
  {
   "cell_type": "code",
   "execution_count": 10,
   "metadata": {
    "collapsed": false
   },
   "outputs": [
    {
     "data": {
      "text/plain": [
       "0.2456338135835581"
      ]
     },
     "execution_count": 10,
     "metadata": {},
     "output_type": "execute_result"
    }
   ],
   "source": [
    "log_loss(y_test,test_res_calib)"
   ]
  },
  {
   "cell_type": "markdown",
   "metadata": {},
   "source": [
    "The following shows that the predict_proba method of rfm_calib is the same as using the uncalibrated classifier and then applying the calibration function."
   ]
  },
  {
   "cell_type": "code",
   "execution_count": 11,
   "metadata": {
    "collapsed": false
   },
   "outputs": [
    {
     "data": {
      "text/plain": [
       "0.2456338135835581"
      ]
     },
     "execution_count": 11,
     "metadata": {},
     "output_type": "execute_result"
    }
   ],
   "source": [
    "test_res_calib_2 = rfm_calib.calib_func(test_res_uncalib)\n",
    "log_loss(y_test,test_res_calib_2)"
   ]
  },
  {
   "cell_type": "markdown",
   "metadata": {},
   "source": [
    "The default logistic option is intended to reduce the log-loss (aka deviance).  But we see here that it improves the Brier Score as well."
   ]
  },
  {
   "cell_type": "code",
   "execution_count": 12,
   "metadata": {
    "collapsed": false
   },
   "outputs": [
    {
     "data": {
      "text/plain": [
       "0.074039569117289192"
      ]
     },
     "execution_count": 12,
     "metadata": {},
     "output_type": "execute_result"
    }
   ],
   "source": [
    "brier_score_loss(y_test,test_res_uncalib)"
   ]
  },
  {
   "cell_type": "code",
   "execution_count": 13,
   "metadata": {
    "collapsed": false
   },
   "outputs": [
    {
     "data": {
      "text/plain": [
       "0.0724150297882733"
      ]
     },
     "execution_count": 13,
     "metadata": {},
     "output_type": "execute_result"
    }
   ],
   "source": [
    "brier_score_loss(y_test,test_res_calib)"
   ]
  },
  {
   "cell_type": "markdown",
   "metadata": {},
   "source": [
    "This next plot shows the calibration function that was estimated.  If the original model had been perfectly calibrated, we would expect the calibration function to be y=x.  Instead, the plot shows that the Random Forest scores overestimate the probability between 0 and 0.1 and underestimate it after that."
   ]
  },
  {
   "cell_type": "code",
   "execution_count": 14,
   "metadata": {
    "collapsed": false
   },
   "outputs": [
    {
     "data": {
      "text/plain": [
       "[<matplotlib.lines.Line2D at 0x117f78e10>]"
      ]
     },
     "execution_count": 14,
     "metadata": {},
     "output_type": "execute_result"
    },
    {
     "data": {
      "image/png": "[encoded data removed]",
      "text/plain": [
       "<matplotlib.figure.Figure at 0x117f781d0>"
      ]
     },
     "metadata": {},
     "output_type": "display_data"
    }
   ],
   "source": [
    "plt.plot(np.linspace(0,1,101),rfm_calib.calib_func(np.linspace(0,1,101)))\n",
    "plt.plot(np.linspace(0,1,101),np.linspace(0,1,101),'k')"
   ]
  },
  {
   "cell_type": "markdown",
   "metadata": {
    "collapsed": true
   },
   "source": [
    "Using histograms and bin counts, we can look at estimated empirical probabilities on the test set to see how well our calibration is working."
   ]
  },
  {
   "cell_type": "code",
   "execution_count": 15,
   "metadata": {
    "collapsed": false
   },
   "outputs": [
    {
     "data": {
      "image/png": "[encoded data removed]",
      "text/plain": [
       "<matplotlib.figure.Figure at 0x113c20630>"
      ]
     },
     "metadata": {},
     "output_type": "display_data"
    }
   ],
   "source": [
    "# Side by side histograms showing scores of positive vs negative cases\n",
    "\n",
    "fig, axis = plt.subplots(1,2, figsize = (8,4))\n",
    "\n",
    "ax=axis.flatten()\n",
    "countvec0_test = ax[0].hist(test_res_uncalib[np.where(y_test==0)],bins=20,range=[0,1]);\n",
    "countvec1_test = ax[1].hist(test_res_uncalib[np.where(y_test==1)],bins=20,range=[0,1]);"
   ]
  },
  {
   "cell_type": "code",
   "execution_count": 16,
   "metadata": {
    "collapsed": false
   },
   "outputs": [
    {
     "name": "stderr",
     "output_type": "stream",
     "text": [
      "/Applications/anaconda/envs/py3env/lib/python3.5/site-packages/ipykernel/__main__.py:1: RuntimeWarning: invalid value encountered in true_divide\n",
      "  if __name__ == '__main__':\n"
     ]
    }
   ],
   "source": [
    "emp_prob_vec_test = countvec1_test[0]/(countvec0_test[0]+countvec1_test[0])\n",
    "\n"
   ]
  },
  {
   "cell_type": "markdown",
   "metadata": {},
   "source": [
    "The below plot shows how well the calibrated probabilities fit the empirical (binned) probabilities on an independent test set."
   ]
  },
  {
   "cell_type": "code",
   "execution_count": 17,
   "metadata": {
    "collapsed": false
   },
   "outputs": [
    {
     "data": {
      "text/plain": [
       "[<matplotlib.lines.Line2D at 0x108812be0>]"
      ]
     },
     "execution_count": 17,
     "metadata": {},
     "output_type": "execute_result"
    },
    {
     "data": {
      "image/png": "[encoded data removed]",
      "text/plain": [
       "<matplotlib.figure.Figure at 0x113c080b8>"
      ]
     },
     "metadata": {},
     "output_type": "display_data"
    }
   ],
   "source": [
    "plt.plot(np.linspace(0,1,101),rfm_calib.calib_func(np.linspace(0,1,101)))\n",
    "plt.plot(np.linspace(0,1,101),np.linspace(0,1,101),'k')\n",
    "plt.plot(np.linspace(.025,.975,20), emp_prob_vec_test, 'g+')"
   ]
  },
  {
   "cell_type": "code",
   "execution_count": null,
   "metadata": {
    "collapsed": true
   },
   "outputs": [],
   "source": []
  },
  {
   "cell_type": "code",
   "execution_count": null,
   "metadata": {
    "collapsed": true
   },
   "outputs": [],
   "source": []
  },
  {
   "cell_type": "code",
   "execution_count": null,
   "metadata": {
    "collapsed": true
   },
   "outputs": [],
   "source": []
  },
  {
   "cell_type": "markdown",
   "metadata": {},
   "source": [
    "## Existing Sklearn Calibration Functionality"
   ]
  },
  {
   "cell_type": "markdown",
   "metadata": {},
   "source": [
    "Note, sklearn has a `CalibratedClassifierCV` function, but it does not seem to work as well."
   ]
  },
  {
   "cell_type": "code",
   "execution_count": 18,
   "metadata": {
    "collapsed": false
   },
   "outputs": [],
   "source": [
    "clf_isotonic_xval = CalibratedClassifierCV(rfm, method='isotonic', cv=5)\n",
    "clf_isotonic_xval.fit(X_train,y_train)\n",
    "prob_pos_isotonic_xval = clf_isotonic_xval.predict_proba(X_test)[:, 1]"
   ]
  },
  {
   "cell_type": "code",
   "execution_count": 19,
   "metadata": {
    "collapsed": false
   },
   "outputs": [
    {
     "data": {
      "text/plain": [
       "0.24892041795293879"
      ]
     },
     "execution_count": 19,
     "metadata": {},
     "output_type": "execute_result"
    }
   ],
   "source": [
    "log_loss(y_test,prob_pos_isotonic_xval)"
   ]
  },
  {
   "cell_type": "code",
   "execution_count": 20,
   "metadata": {
    "collapsed": false
   },
   "outputs": [
    {
     "data": {
      "text/plain": [
       "0.072655372713224517"
      ]
     },
     "execution_count": 20,
     "metadata": {},
     "output_type": "execute_result"
    }
   ],
   "source": [
    "brier_score_loss(y_test,prob_pos_isotonic_xval)"
   ]
  },
  {
   "cell_type": "code",
   "execution_count": 21,
   "metadata": {
    "collapsed": false
   },
   "outputs": [
    {
     "data": {
      "text/plain": [
       "[<matplotlib.lines.Line2D at 0x11fe8cf60>]"
      ]
     },
     "execution_count": 21,
     "metadata": {},
     "output_type": "execute_result"
    },
    {
     "data": {
      "image/png": "[encoded data removed]",
      "text/plain": [
       "<matplotlib.figure.Figure at 0x1188b06d8>"
      ]
     },
     "metadata": {},
     "output_type": "display_data"
    }
   ],
   "source": [
    "plt.plot(np.linspace(0,1,101),np.linspace(0,1,101),'k')\n",
    "plt.plot(test_res_uncalib,prob_pos_isotonic_xval,'c.')\n",
    "plt.plot(np.linspace(.025,.975,20),emp_prob_vec_test,'g+')\n",
    "plt.plot(np.linspace(0,1,101),rfm_calib.calib_func(np.linspace(0,1,101)),'b')\n",
    "\n"
   ]
  },
  {
   "cell_type": "markdown",
   "metadata": {},
   "source": [
    "The CalibratedClassifierCV in sklearn averages the results of mutiple calibrated models, resulting in significant variance which hampers its performance.  By contrast, ML-Insights refits the full model, and computes one calibration on the entire cross-validated answer set.\n",
    "\n",
    "For this reason, the log-loss is significantly worse (and brier score is worse as well) using the isotonic variant (though both are improved from the uncalibrated version)"
   ]
  },
  {
   "cell_type": "code",
   "execution_count": 22,
   "metadata": {
    "collapsed": false
   },
   "outputs": [],
   "source": [
    "clf_sigmoid_xval = CalibratedClassifierCV(rfm, method='sigmoid', cv=5)\n",
    "clf_sigmoid_xval.fit(X_train,y_train)\n",
    "prob_pos_sigmoid_xval = clf_sigmoid_xval.predict_proba(X_test)[:, 1]"
   ]
  },
  {
   "cell_type": "code",
   "execution_count": 23,
   "metadata": {
    "collapsed": false
   },
   "outputs": [
    {
     "data": {
      "text/plain": [
       "0.25435730616775026"
      ]
     },
     "execution_count": 23,
     "metadata": {},
     "output_type": "execute_result"
    }
   ],
   "source": [
    "log_loss(y_test,prob_pos_sigmoid_xval)"
   ]
  },
  {
   "cell_type": "code",
   "execution_count": 24,
   "metadata": {
    "collapsed": false
   },
   "outputs": [
    {
     "data": {
      "text/plain": [
       "0.073790672155675974"
      ]
     },
     "execution_count": 24,
     "metadata": {},
     "output_type": "execute_result"
    }
   ],
   "source": [
    "brier_score_loss(y_test,prob_pos_sigmoid_xval)"
   ]
  },
  {
   "cell_type": "code",
   "execution_count": 25,
   "metadata": {
    "collapsed": false
   },
   "outputs": [
    {
     "data": {
      "text/plain": [
       "[<matplotlib.lines.Line2D at 0x1a21f0cf8>]"
      ]
     },
     "execution_count": 25,
     "metadata": {},
     "output_type": "execute_result"
    },
    {
     "data": {
      "image/png": "[encoded data removed]",
      "text/plain": [
       "<matplotlib.figure.Figure at 0x1bf73ed68>"
      ]
     },
     "metadata": {},
     "output_type": "display_data"
    }
   ],
   "source": [
    "plt.plot(np.linspace(0,1,101),np.linspace(0,1,101),'k')\n",
    "plt.plot(test_res_uncalib,prob_pos_sigmoid_xval,'c.')\n",
    "plt.plot(np.linspace(.025,.975,20),emp_prob_vec_test,'g+')\n",
    "\n"
   ]
  },
  {
   "cell_type": "markdown",
   "metadata": {
    "collapsed": true
   },
   "source": [
    "The sigmoid variant assumes a strict parametric form for the calibration, which is not accurate in many cases, therefore, its performance is not very good."
   ]
  },
  {
   "cell_type": "code",
   "execution_count": null,
   "metadata": {
    "collapsed": true
   },
   "outputs": [],
   "source": []
  },
  {
   "cell_type": "code",
   "execution_count": null,
   "metadata": {
    "collapsed": true
   },
   "outputs": [],
   "source": []
  }
 ],
 "metadata": {
  "anaconda-cloud": {},
  "kernelspec": {
   "display_name": "Python 3",
   "language": "python",
   "name": "python3"
  },
  "language_info": {
   "codemirror_mode": {
    "name": "ipython",
    "version": 3
   },
   "file_extension": ".py",
   "mimetype": "text/x-python",
   "name": "python",
   "nbconvert_exporter": "python",
   "pygments_lexer": "ipython3",
   "version": "3.5.1"
  }
 },
 "nbformat": 4,
 "nbformat_minor": 0
}
